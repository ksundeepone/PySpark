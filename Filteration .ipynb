{
 "cells": [
  {
   "cell_type": "code",
   "execution_count": 1,
   "id": "16c39611",
   "metadata": {},
   "outputs": [],
   "source": [
    "from pyspark.sql import SparkSession "
   ]
  },
  {
   "cell_type": "code",
   "execution_count": 2,
   "id": "36e92c02",
   "metadata": {
    "scrolled": true
   },
   "outputs": [
    {
     "name": "stderr",
     "output_type": "stream",
     "text": [
      "23/10/20 21:08:52 WARN Utils: Your hostname, Sundeeps-MacBook-Air.local resolves to a loopback address: 127.0.0.1; using 11.38.254.110 instead (on interface en0)\n",
      "23/10/20 21:08:52 WARN Utils: Set SPARK_LOCAL_IP if you need to bind to another address\n",
      "Setting default log level to \"WARN\".\n",
      "To adjust logging level use sc.setLogLevel(newLevel). For SparkR, use setLogLevel(newLevel).\n",
      "23/10/20 21:08:53 WARN NativeCodeLoader: Unable to load native-hadoop library for your platform... using builtin-java classes where applicable\n"
     ]
    }
   ],
   "source": [
    "spark = SparkSession.builder.appName('Filteration').getOrCreate()"
   ]
  },
  {
   "cell_type": "code",
   "execution_count": 32,
   "id": "567ede08",
   "metadata": {},
   "outputs": [
    {
     "data": {
      "text/html": [
       "\n",
       "            <div>\n",
       "                <p><b>SparkSession - in-memory</b></p>\n",
       "                \n",
       "        <div>\n",
       "            <p><b>SparkContext</b></p>\n",
       "\n",
       "            <p><a href=\"http://11.38.254.110:4040\">Spark UI</a></p>\n",
       "\n",
       "            <dl>\n",
       "              <dt>Version</dt>\n",
       "                <dd><code>v3.5.0</code></dd>\n",
       "              <dt>Master</dt>\n",
       "                <dd><code>local[*]</code></dd>\n",
       "              <dt>AppName</dt>\n",
       "                <dd><code>Filteration</code></dd>\n",
       "            </dl>\n",
       "        </div>\n",
       "        \n",
       "            </div>\n",
       "        "
      ],
      "text/plain": [
       "<pyspark.sql.session.SparkSession at 0x7fd708e7c310>"
      ]
     },
     "execution_count": 32,
     "metadata": {},
     "output_type": "execute_result"
    }
   ],
   "source": [
    "spark"
   ]
  },
  {
   "cell_type": "code",
   "execution_count": 4,
   "id": "b620cb3a",
   "metadata": {},
   "outputs": [
    {
     "name": "stderr",
     "output_type": "stream",
     "text": [
      "                                                                                \r"
     ]
    }
   ],
   "source": [
    "df = spark.read.csv(\"/Users/sundeepk/Desktop/Employees.csv\", header=True, inferSchema = True)"
   ]
  },
  {
   "cell_type": "code",
   "execution_count": 5,
   "id": "15698480",
   "metadata": {},
   "outputs": [
    {
     "name": "stdout",
     "output_type": "stream",
     "text": [
      "+------+----+-----------+------+\n",
      "|  name| age|experience |salary|\n",
      "+------+----+-----------+------+\n",
      "|Krish |  31|         10|  3000|\n",
      "| Sudha|  30|          8| 25000|\n",
      "| sunny|  27|          3| 20000|\n",
      "|  paul|  24|          1| 20000|\n",
      "|Harsha|  21|          1| 15000|\n",
      "|Shubam|  23|          2| 18000|\n",
      "|mahesh|NULL|       NULL| 40000|\n",
      "|  NULL|  34|         10|  NULL|\n",
      "|  NULL|  23|       NULL|  NULL|\n",
      "+------+----+-----------+------+\n",
      "\n"
     ]
    }
   ],
   "source": [
    "df.show()"
   ]
  },
  {
   "cell_type": "code",
   "execution_count": 34,
   "id": "623a5f09",
   "metadata": {},
   "outputs": [
    {
     "name": "stdout",
     "output_type": "stream",
     "text": [
      "root\n",
      " |-- name: string (nullable = true)\n",
      " |-- age: integer (nullable = true)\n",
      " |-- experience : integer (nullable = true)\n",
      " |-- salary: integer (nullable = true)\n",
      "\n"
     ]
    }
   ],
   "source": [
    "df.printSchema()"
   ]
  },
  {
   "cell_type": "code",
   "execution_count": 7,
   "id": "34894d4f",
   "metadata": {},
   "outputs": [],
   "source": [
    "#Lets drop all the Null values \n",
    "df =df.na.drop()"
   ]
  },
  {
   "cell_type": "code",
   "execution_count": 8,
   "id": "3340d04e",
   "metadata": {},
   "outputs": [
    {
     "name": "stdout",
     "output_type": "stream",
     "text": [
      "+------+---+-----------+------+\n",
      "|  name|age|experience |salary|\n",
      "+------+---+-----------+------+\n",
      "|Krish | 31|         10|  3000|\n",
      "| sunny| 27|          3| 20000|\n",
      "|  paul| 24|          1| 20000|\n",
      "|Harsha| 21|          1| 15000|\n",
      "|Shubam| 23|          2| 18000|\n",
      "+------+---+-----------+------+\n",
      "\n"
     ]
    }
   ],
   "source": [
    "#Lets perform the filter operation\n",
    "\n",
    "df.filter(\"salary <=20000\").show()"
   ]
  },
  {
   "cell_type": "code",
   "execution_count": 9,
   "id": "10c2b73d",
   "metadata": {},
   "outputs": [
    {
     "name": "stdout",
     "output_type": "stream",
     "text": [
      "+---+------+\n",
      "|age|  name|\n",
      "+---+------+\n",
      "| 31|Krish |\n",
      "| 27| sunny|\n",
      "| 24|  paul|\n",
      "| 21|Harsha|\n",
      "| 23|Shubam|\n",
      "+---+------+\n",
      "\n"
     ]
    }
   ],
   "source": [
    "#Just display your required columns \n",
    "\n",
    "df.filter(\"salary <=20000\").select(['age', 'name']).show()"
   ]
  },
  {
   "cell_type": "code",
   "execution_count": 19,
   "id": "5b7e799c",
   "metadata": {},
   "outputs": [
    {
     "name": "stdout",
     "output_type": "stream",
     "text": [
      "+------+---+-----------+------+\n",
      "|  name|age|experience |salary|\n",
      "+------+---+-----------+------+\n",
      "| sunny| 27|          3| 20000|\n",
      "|  paul| 24|          1| 20000|\n",
      "|Shubam| 23|          2| 18000|\n",
      "+------+---+-----------+------+\n",
      "\n"
     ]
    }
   ],
   "source": [
    "# lets put multiple conditions \n",
    "\n",
    "#AND function\n",
    "\n",
    "df.filter((df[\"salary\"] >15000) & (df[\"age\"] <=27)).show()"
   ]
  },
  {
   "cell_type": "code",
   "execution_count": 28,
   "id": "cbc2697e",
   "metadata": {},
   "outputs": [
    {
     "name": "stdout",
     "output_type": "stream",
     "text": [
      "+------+---+-----------+------+\n",
      "|  name|age|experience |salary|\n",
      "+------+---+-----------+------+\n",
      "|Krish | 31|         10|  3000|\n",
      "|Harsha| 21|          1| 15000|\n",
      "|Shubam| 23|          2| 18000|\n",
      "+------+---+-----------+------+\n",
      "\n"
     ]
    }
   ],
   "source": [
    "#OR function \n",
    "\n",
    "df.filter(~(df[\"salary\"] >= 15000) &\n",
    "          (df[\"salary\"] <= 20000) |\n",
    "          (df[\"age\"] <=23)).show()"
   ]
  },
  {
   "cell_type": "markdown",
   "id": "be78f24f",
   "metadata": {},
   "source": [
    "## ~ NOT OPERATION \n",
    "## | OR OPERATION \n",
    "## & AND OPERATION \n"
   ]
  },
  {
   "cell_type": "code",
   "execution_count": 30,
   "id": "8b30e779",
   "metadata": {},
   "outputs": [],
   "source": [
    "df_dpt = spark.read.csv('/Users/sundeepk/Desktop/departments.csv', header = True, inferSchema = True)"
   ]
  },
  {
   "cell_type": "code",
   "execution_count": 31,
   "id": "b001ff37",
   "metadata": {},
   "outputs": [
    {
     "name": "stdout",
     "output_type": "stream",
     "text": [
      "+------+-------------+-------+\n",
      "| Name |  Department |Salary |\n",
      "+------+-------------+-------+\n",
      "|Krish |data science |  10000|\n",
      "|Krish |          IOT|   5000|\n",
      "|Mahesh|    Big data |   4000|\n",
      "|Krish |    Big data |   4000|\n",
      "|Mahesh|data science |   3000|\n",
      "|Sudha |         IOT |  20000|\n",
      "|sudha |    Big data |   5000|\n",
      "|sunny |data science |  10000|\n",
      "|sunny |    Big data |   2000|\n",
      "+------+-------------+-------+\n",
      "\n"
     ]
    }
   ],
   "source": [
    "df_dpt.show()"
   ]
  },
  {
   "cell_type": "code",
   "execution_count": 33,
   "id": "b12ecf83",
   "metadata": {},
   "outputs": [
    {
     "name": "stdout",
     "output_type": "stream",
     "text": [
      "root\n",
      " |-- Name : string (nullable = true)\n",
      " |-- Department : string (nullable = true)\n",
      " |-- Salary : integer (nullable = true)\n",
      "\n"
     ]
    }
   ],
   "source": [
    "df_dpt.printSchema()"
   ]
  },
  {
   "cell_type": "code",
   "execution_count": 39,
   "id": "ee31ba03",
   "metadata": {
    "scrolled": true
   },
   "outputs": [
    {
     "name": "stdout",
     "output_type": "stream",
     "text": [
      "+------+------------+\n",
      "| Name |sum(Salary )|\n",
      "+------+------------+\n",
      "|Sudha |       20000|\n",
      "|Krish |       19000|\n",
      "|sudha |        5000|\n",
      "|sunny |       12000|\n",
      "|Mahesh|        7000|\n",
      "+------+------------+\n",
      "\n"
     ]
    }
   ],
   "source": [
    "#Lets see who gets the max salary out of everyone\n",
    "\n",
    "#First lets group the names and then perform .sum()\n",
    "\n",
    "df_dpt.groupBy('Name ').sum().show()"
   ]
  },
  {
   "cell_type": "code",
   "execution_count": 44,
   "id": "50f9dbb0",
   "metadata": {},
   "outputs": [
    {
     "name": "stdout",
     "output_type": "stream",
     "text": [
      "+-------------+------------+\n",
      "|  Department |max(Salary )|\n",
      "+-------------+------------+\n",
      "|          IOT|        5000|\n",
      "|         IOT |       20000|\n",
      "|    Big data |        5000|\n",
      "|data science |       10000|\n",
      "+-------------+------------+\n",
      "\n"
     ]
    }
   ],
   "source": [
    "## Lets find which department gives max salary \n",
    "\n",
    "\n",
    "df_dpt.groupBy('Department ').max().show()"
   ]
  },
  {
   "cell_type": "code",
   "execution_count": 46,
   "id": "35a154f0",
   "metadata": {},
   "outputs": [
    {
     "name": "stdout",
     "output_type": "stream",
     "text": [
      "+-------------+-----+\n",
      "|  Department |count|\n",
      "+-------------+-----+\n",
      "|          IOT|    1|\n",
      "|         IOT |    1|\n",
      "|    Big data |    4|\n",
      "|data science |    3|\n",
      "+-------------+-----+\n",
      "\n"
     ]
    }
   ],
   "source": [
    "## How to count the people in a department \n",
    "\n",
    "df_dpt.groupBy('Department ').count().show()"
   ]
  },
  {
   "cell_type": "code",
   "execution_count": 49,
   "id": "1c3aba39",
   "metadata": {},
   "outputs": [
    {
     "name": "stdout",
     "output_type": "stream",
     "text": [
      "+------------+\n",
      "|sum(Salary )|\n",
      "+------------+\n",
      "|       63000|\n",
      "+------------+\n",
      "\n"
     ]
    }
   ],
   "source": [
    "#WE CAN ALSO DO AGG function \n",
    "\n",
    "df_dpt.agg({'Salary ':'sum'}).show()"
   ]
  },
  {
   "cell_type": "code",
   "execution_count": null,
   "id": "bbd62359",
   "metadata": {},
   "outputs": [],
   "source": []
  },
  {
   "cell_type": "code",
   "execution_count": null,
   "id": "bc74a6ef",
   "metadata": {},
   "outputs": [],
   "source": []
  },
  {
   "cell_type": "code",
   "execution_count": null,
   "id": "1ba85ced",
   "metadata": {},
   "outputs": [],
   "source": []
  },
  {
   "cell_type": "code",
   "execution_count": null,
   "id": "21188113",
   "metadata": {},
   "outputs": [],
   "source": []
  },
  {
   "cell_type": "code",
   "execution_count": null,
   "id": "da3de82c",
   "metadata": {},
   "outputs": [],
   "source": []
  }
 ],
 "metadata": {
  "kernelspec": {
   "display_name": "Python 3 (ipykernel)",
   "language": "python",
   "name": "python3"
  },
  "language_info": {
   "codemirror_mode": {
    "name": "ipython",
    "version": 3
   },
   "file_extension": ".py",
   "mimetype": "text/x-python",
   "name": "python",
   "nbconvert_exporter": "python",
   "pygments_lexer": "ipython3",
   "version": "3.9.13"
  }
 },
 "nbformat": 4,
 "nbformat_minor": 5
}
